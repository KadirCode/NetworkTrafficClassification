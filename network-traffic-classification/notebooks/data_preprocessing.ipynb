{
 "cells": [
  {
   "cell_type": "markdown",
   "metadata": {},
   "source": [
    "# Data Preprocessing\n",
    "\n",
    "This notebook is used for data preprocessing tasks, including loading the dataset, selecting relevant features, and cleaning and encoding variables."
   ]
  },
  {
   "cell_type": "code",
   "execution_count": null,
   "metadata": {
    "id": "load-data"
   },
   "outputs": [],
   "source": [
    "import pandas as pd\n",
    "\n",
    "# Load the dataset\n",
    "data = pd.read_csv('../data/UNSW-NB15.csv')\n",
    "data.head()"
   ]
  },
  {
   "cell_type": "code",
   "execution_count": null,
   "metadata": {
    "id": "select-features"
   },
   "outputs": [],
   "source": [
    "# Select relevant features\n",
    "features = data[['proto', 'spkts', 'dpkts', 'sbytes', 'dbytes', 'dur']]\n",
    "target = data['service']\n",
    "features.head()"
   ]
  },
  {
   "cell_type": "code",
   "execution_count": null,
   "metadata": {
    "id": "clean-encode"
   },
   "outputs": [],
   "source": [
    "# Data cleaning and encoding\n",
    "from sklearn.preprocessing import LabelEncoder\n",
    "\n",
    "# Encode categorical variables\n",
    "label_encoder = LabelEncoder()\n",
    "features['proto'] = label_encoder.fit_transform(features['proto'])\n",
    "target = label_encoder.fit_transform(target)\n",
    "features.head()"
   ]
  },
  {
   "cell_type": "code",
   "execution_count": null,
   "metadata": {
    "id": "check-null-values"
   },
   "outputs": [],
   "source": [
    "# Check for null values\n",
    "null_values = data.isnull().sum()\n",
    "null_values[null_values > 0]"
   ]
  },
  {
   "cell_type": "code",
   "execution_count": null,
   "metadata": {
    "id": "drop-null-rows"
   },
   "outputs": [],
   "source": [
    "# Drop rows with null values\n",
    "data_cleaned = data.dropna()\n",
    "data_cleaned.shape"
   ]
  }
 ],
 "metadata": {
  "kernelspec": {
   "display_name": "Python 3",
   "language": "python",
   "name": "python3"
  },
  "language_info": {
   "codemirror_mode": {
    "name": "ipython",
    "version": 3
   },
   "file_extension": ".py",
   "mimetype": "text/x-python",
   "name": "python",
   "nbconvert_exporter": "python",
   "pygments_lexer": "ipython3",
   "version": "3.8.5"
  }
 },
 "nbformat": 4,
 "nbformat_minor": 4
}